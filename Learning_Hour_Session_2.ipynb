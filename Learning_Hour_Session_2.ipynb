{
  "nbformat": 4,
  "nbformat_minor": 0,
  "metadata": {
    "colab": {
      "provenance": [],
      "authorship_tag": "ABX9TyP8ZvQz9htb1VCC2C5GuQr+",
      "include_colab_link": true
    },
    "kernelspec": {
      "name": "python3",
      "display_name": "Python 3"
    },
    "language_info": {
      "name": "python"
    }
  },
  "cells": [
    {
      "cell_type": "markdown",
      "metadata": {
        "id": "view-in-github",
        "colab_type": "text"
      },
      "source": [
        "<a href=\"https://colab.research.google.com/github/imaadityak/LH_DSML_Series/blob/main/Learning_Hour_Session_2.ipynb\" target=\"_parent\"><img src=\"https://colab.research.google.com/assets/colab-badge.svg\" alt=\"Open In Colab\"/></a>"
      ]
    },
    {
      "cell_type": "markdown",
      "source": [
        "Libraries"
      ],
      "metadata": {
        "id": "7SwnTJ2vDUEf"
      }
    },
    {
      "cell_type": "code",
      "execution_count": 30,
      "metadata": {
        "id": "4nrqhmZzC8vf"
      },
      "outputs": [],
      "source": [
        "import sys\n",
        "import array as arr\n",
        "import numpy as np\n",
        "import keyword\n",
        "import operator\n",
        "from datetime import datetime\n",
        "import os"
      ]
    },
    {
      "cell_type": "markdown",
      "source": [
        "Keywords"
      ],
      "metadata": {
        "id": "opWM-hAJDMpn"
      }
    },
    {
      "cell_type": "code",
      "source": [
        "print(keyword.kwlist) # List all Python Keywords"
      ],
      "metadata": {
        "colab": {
          "base_uri": "https://localhost:8080/"
        },
        "id": "x10nLE9ODNrU",
        "outputId": "9e5c4bcb-ebd9-4885-f603-184f258e196f"
      },
      "execution_count": 88,
      "outputs": [
        {
          "output_type": "stream",
          "name": "stdout",
          "text": [
            "['False', 'None', 'True', 'and', 'as', 'assert', 'async', 'await', 'break', 'class', 'continue', 'def', 'del', 'elif', 'else', 'except', 'finally', 'for', 'from', 'global', 'if', 'import', 'in', 'is', 'lambda', 'nonlocal', 'not', 'or', 'pass', 'raise', 'return', 'try', 'while', 'with', 'yield']\n"
          ]
        }
      ]
    },
    {
      "cell_type": "code",
      "source": [
        "len(keyword.kwlist) # Python contains 35 keywords"
      ],
      "metadata": {
        "colab": {
          "base_uri": "https://localhost:8080/"
        },
        "id": "JdxZOepLDZkJ",
        "outputId": "679c8311-1585-44c5-fc4c-77aca17de6fb"
      },
      "execution_count": 89,
      "outputs": [
        {
          "output_type": "execute_result",
          "data": {
            "text/plain": [
              "35"
            ]
          },
          "metadata": {},
          "execution_count": 89
        }
      ]
    },
    {
      "cell_type": "markdown",
      "source": [
        "Identifiers"
      ],
      "metadata": {
        "id": "X92ttSJSECdd"
      }
    },
    {
      "cell_type": "code",
      "source": [
        "1var = 1  # Identifier can't start with a digit"
      ],
      "metadata": {
        "colab": {
          "base_uri": "https://localhost:8080/",
          "height": 141
        },
        "id": "TwqV59GeED-_",
        "outputId": "e63857d1-f6b4-42ec-bd16-2367951a2912"
      },
      "execution_count": 91,
      "outputs": [
        {
          "output_type": "error",
          "ename": "SyntaxError",
          "evalue": "ignored",
          "traceback": [
            "\u001b[0;36m  File \u001b[0;32m\"<ipython-input-91-7bb0021c2f05>\"\u001b[0;36m, line \u001b[0;32m1\u001b[0m\n\u001b[0;31m    1var = 1  # Identifier can't start with a digit\u001b[0m\n\u001b[0m    ^\u001b[0m\n\u001b[0;31mSyntaxError\u001b[0m\u001b[0;31m:\u001b[0m invalid decimal literal\n"
          ]
        }
      ]
    },
    {
      "cell_type": "code",
      "source": [
        "val2@ = 2 # Identifier can't use special symbols"
      ],
      "metadata": {
        "colab": {
          "base_uri": "https://localhost:8080/",
          "height": 141
        },
        "id": "hjzwAxLCEGZW",
        "outputId": "e8cc01fd-4ebc-4d94-a3c6-124f79e64ec3"
      },
      "execution_count": 93,
      "outputs": [
        {
          "output_type": "error",
          "ename": "SyntaxError",
          "evalue": "ignored",
          "traceback": [
            "\u001b[0;36m  File \u001b[0;32m\"<ipython-input-93-bcebde089eac>\"\u001b[0;36m, line \u001b[0;32m1\u001b[0m\n\u001b[0;31m    val2@ = 2 # Identifier can't use special symbols\u001b[0m\n\u001b[0m          ^\u001b[0m\n\u001b[0;31mSyntaxError\u001b[0m\u001b[0;31m:\u001b[0m invalid syntax\n"
          ]
        }
      ]
    },
    {
      "cell_type": "code",
      "source": [
        "\"\"\"\n",
        "Correct way of defining an identifier\n",
        "(Identifiers can be a combination of letters in lowercase (a to z) or uppercase (\n",
        "\"\"\"\n",
        "val2 = 2023"
      ],
      "metadata": {
        "id": "Y2iLxK_-EKQ_"
      },
      "execution_count": 94,
      "outputs": []
    },
    {
      "cell_type": "code",
      "source": [
        "val_2 = 2024"
      ],
      "metadata": {
        "id": "AoeNbtsTElEO"
      },
      "execution_count": 95,
      "outputs": []
    },
    {
      "cell_type": "markdown",
      "source": [
        "Comments in Python"
      ],
      "metadata": {
        "id": "kBxq3myzEwim"
      }
    },
    {
      "cell_type": "code",
      "source": [
        "# Single line comment\n",
        "num1 = 1\n"
      ],
      "metadata": {
        "id": "17O1h9Q6ExGs"
      },
      "execution_count": 96,
      "outputs": []
    },
    {
      "cell_type": "code",
      "source": [
        "# Multiple\n",
        "# line\n",
        "# comment\n",
        "num_1 = 2\n",
        "\n",
        "\"\"\"\n",
        "Multiple\n",
        "line\n",
        "comment\n",
        "\"\"\"\n",
        "print(num_1)\n",
        "\n"
      ],
      "metadata": {
        "colab": {
          "base_uri": "https://localhost:8080/"
        },
        "id": "ALZxdwqhE4vv",
        "outputId": "b8de9d8e-d835-423b-a5df-7b9d2da7db25"
      },
      "execution_count": 97,
      "outputs": [
        {
          "output_type": "stream",
          "name": "stdout",
          "text": [
            "2\n"
          ]
        }
      ]
    },
    {
      "cell_type": "markdown",
      "source": [
        "Statements"
      ],
      "metadata": {
        "id": "f71a2GYIFN44"
      }
    },
    {
      "cell_type": "code",
      "source": [
        "# Single line statement\n",
        "ss = 10 + 20\n",
        "print(ss)\n",
        "\n",
        "# Multi line statement will be using by '\\'\n",
        "ss_1 = 20 + 30 \\\n",
        "       + 40 + 50 +\\\n",
        "        + 70 + 80\n",
        "\n",
        "ss_1\n",
        "\n"
      ],
      "metadata": {
        "colab": {
          "base_uri": "https://localhost:8080/"
        },
        "id": "gFd0DckXFG05",
        "outputId": "f76d1828-776d-499a-8a51-b106b53632f5"
      },
      "execution_count": 99,
      "outputs": [
        {
          "output_type": "stream",
          "name": "stdout",
          "text": [
            "30\n"
          ]
        },
        {
          "output_type": "execute_result",
          "data": {
            "text/plain": [
              "290"
            ]
          },
          "metadata": {},
          "execution_count": 99
        }
      ]
    },
    {
      "cell_type": "markdown",
      "source": [
        "Indentation"
      ],
      "metadata": {
        "id": "ZETiysCkUgYu"
      }
    },
    {
      "cell_type": "code",
      "source": [
        "ind = 0\n",
        "if ind == 0:\n",
        " print ('ind is equal to 0') # correct indentation"
      ],
      "metadata": {
        "colab": {
          "base_uri": "https://localhost:8080/"
        },
        "id": "t0wrglpiFtaU",
        "outputId": "f20716dd-8ffc-4c52-fa1f-9e41bed8fa74"
      },
      "execution_count": 100,
      "outputs": [
        {
          "output_type": "stream",
          "name": "stdout",
          "text": [
            "ind is equal to 0\n"
          ]
        }
      ]
    },
    {
      "cell_type": "code",
      "source": [
        "# if indentation is skipped we will encounter \"IndentationError: expected an ind error\n",
        "ind_1 = 1\n",
        "if ind_1 == 1:\n",
        "print ('ind is equal to 1')"
      ],
      "metadata": {
        "colab": {
          "base_uri": "https://localhost:8080/",
          "height": 141
        },
        "id": "JvJUJ4FaU6Ns",
        "outputId": "415dd3e2-1924-499b-d4e5-c992e2e524d6"
      },
      "execution_count": 101,
      "outputs": [
        {
          "output_type": "error",
          "ename": "IndentationError",
          "evalue": "ignored",
          "traceback": [
            "\u001b[0;36m  File \u001b[0;32m\"<ipython-input-101-4344adc5ab8c>\"\u001b[0;36m, line \u001b[0;32m4\u001b[0m\n\u001b[0;31m    print ('ind is equal to 1')\u001b[0m\n\u001b[0m    ^\u001b[0m\n\u001b[0;31mIndentationError\u001b[0m\u001b[0;31m:\u001b[0m expected an indented block after 'if' statement on line 3\n"
          ]
        }
      ]
    },
    {
      "cell_type": "markdown",
      "source": [
        "Variable Assigment"
      ],
      "metadata": {
        "id": "FFkPz9izVja3"
      }
    },
    {
      "cell_type": "code",
      "source": [
        "intvar = 10 # Integer variable\n",
        "floatvar = 2.57 # Float Variable\n",
        "strvar = \"Python Programming\" # String variable\n",
        "print(intvar)\n",
        "print(floatvar)\n",
        "print(strvar)"
      ],
      "metadata": {
        "colab": {
          "base_uri": "https://localhost:8080/"
        },
        "id": "0EaZDM19VKbE",
        "outputId": "94f20688-7694-4d1a-818c-a11116ae1844"
      },
      "execution_count": 102,
      "outputs": [
        {
          "output_type": "stream",
          "name": "stdout",
          "text": [
            "10\n",
            "2.57\n",
            "Python Programming\n"
          ]
        }
      ]
    },
    {
      "cell_type": "markdown",
      "source": [
        "Multiple Variable Assignments"
      ],
      "metadata": {
        "id": "ie3uHF-HVw3L"
      }
    },
    {
      "cell_type": "code",
      "source": [
        "intvar_1 , floatvar_1 , strvar_1 = 10,2.57,\"Python Programming\" # Using commas to separate\n",
        "print(intvar_1)\n",
        "print(floatvar_1)\n",
        "print(strvar_1)\n"
      ],
      "metadata": {
        "colab": {
          "base_uri": "https://localhost:8080/"
        },
        "id": "DdPvEAG2VsiQ",
        "outputId": "39024e16-3826-4a08-dc5b-05e90108d3a8"
      },
      "execution_count": 103,
      "outputs": [
        {
          "output_type": "stream",
          "name": "stdout",
          "text": [
            "10\n",
            "2.57\n",
            "Python Programming\n"
          ]
        }
      ]
    },
    {
      "cell_type": "markdown",
      "source": [
        "**Data Types**"
      ],
      "metadata": {
        "id": "b3z19utAWCvD"
      }
    },
    {
      "cell_type": "markdown",
      "source": [
        "Numeric"
      ],
      "metadata": {
        "id": "FeG5nSDkWUNb"
      }
    },
    {
      "cell_type": "code",
      "source": [
        "int_1 = 10 # Integer data type\n",
        "print(int_1)\n",
        "print(type(int_1)) # type of object\n",
        "print(sys.getsizeof(int_1)) # size of integer object in bytes\n",
        "print(int_1, \" is Integer?\", isinstance(int_1, int)) # int_1 is an instance of int\n",
        "\n",
        "#Note: If you face any library issue please re run cell 1"
      ],
      "metadata": {
        "colab": {
          "base_uri": "https://localhost:8080/"
        },
        "id": "q7GDSkt1V92E",
        "outputId": "d3e1123a-05f4-41d7-b735-f0b236f05eba"
      },
      "execution_count": 104,
      "outputs": [
        {
          "output_type": "stream",
          "name": "stdout",
          "text": [
            "10\n",
            "<class 'int'>\n",
            "28\n",
            "10  is Integer? True\n"
          ]
        }
      ]
    },
    {
      "cell_type": "code",
      "source": [
        "int_2 = 99.99 # Float data type\n",
        "print(int_2)\n",
        "print(type(int_2)) # type of object\n",
        "print(sys.getsizeof(int_2)) # size of float object in bytes\n",
        "print(int_2, \" is float?\", isinstance(int_2, float)) # int_2 is an instance of float"
      ],
      "metadata": {
        "colab": {
          "base_uri": "https://localhost:8080/"
        },
        "id": "u2JW_-WoWqDM",
        "outputId": "59d78f6e-a51a-407c-ac75-bd2d9790fe7d"
      },
      "execution_count": 105,
      "outputs": [
        {
          "output_type": "stream",
          "name": "stdout",
          "text": [
            "99.99\n",
            "<class 'float'>\n",
            "24\n",
            "99.99  is float? True\n"
          ]
        }
      ]
    },
    {
      "cell_type": "code",
      "source": [
        "int_3 = 25 + 10j # Complex data type\n",
        "print(int_3)\n",
        "print(type(int_3)) # type of object\n",
        "print(sys.getsizeof(int_3)) # size of float object in bytes\n",
        "print(int_3, \" is complex?\", isinstance(int_3, complex)) #int_3 is an instance of c"
      ],
      "metadata": {
        "colab": {
          "base_uri": "https://localhost:8080/"
        },
        "id": "9cUo8hDDXawk",
        "outputId": "77e2e77d-7dc3-4c61-8208-b8a87f0ed2be"
      },
      "execution_count": 106,
      "outputs": [
        {
          "output_type": "stream",
          "name": "stdout",
          "text": [
            "(25+10j)\n",
            "<class 'complex'>\n",
            "32\n",
            "(25+10j)  is complex? True\n"
          ]
        }
      ]
    },
    {
      "cell_type": "code",
      "source": [
        "sys.getsizeof(int()) # size of integer object in bytes"
      ],
      "metadata": {
        "colab": {
          "base_uri": "https://localhost:8080/"
        },
        "id": "HJ3D-TK3b1QM",
        "outputId": "bc16145a-6dab-4a78-a56e-60eaf1d80bda"
      },
      "execution_count": 107,
      "outputs": [
        {
          "output_type": "execute_result",
          "data": {
            "text/plain": [
              "24"
            ]
          },
          "metadata": {},
          "execution_count": 107
        }
      ]
    },
    {
      "cell_type": "code",
      "source": [
        "sys.getsizeof(float()) # size of float object in bytes"
      ],
      "metadata": {
        "colab": {
          "base_uri": "https://localhost:8080/"
        },
        "id": "GxIxA_VscBfr",
        "outputId": "5789f422-8bc8-4f32-90c3-676883198df9"
      },
      "execution_count": 108,
      "outputs": [
        {
          "output_type": "execute_result",
          "data": {
            "text/plain": [
              "24"
            ]
          },
          "metadata": {},
          "execution_count": 108
        }
      ]
    },
    {
      "cell_type": "code",
      "source": [
        "sys.getsizeof(complex()) # size of complex object in bytes"
      ],
      "metadata": {
        "colab": {
          "base_uri": "https://localhost:8080/"
        },
        "id": "3vtN_vh2cEOn",
        "outputId": "70dc9f02-f173-4abc-d5a8-220ba4a0965e"
      },
      "execution_count": 109,
      "outputs": [
        {
          "output_type": "execute_result",
          "data": {
            "text/plain": [
              "32"
            ]
          },
          "metadata": {},
          "execution_count": 109
        }
      ]
    },
    {
      "cell_type": "markdown",
      "source": [
        "Boolean"
      ],
      "metadata": {
        "id": "vK6YazMJe80f"
      }
    },
    {
      "cell_type": "code",
      "source": [
        "bool1 = True\n",
        "bool2 = False"
      ],
      "metadata": {
        "id": "1o7t1vYQcHP4"
      },
      "execution_count": 110,
      "outputs": []
    },
    {
      "cell_type": "code",
      "source": [
        "print(type(bool1))\n",
        "print(type(bool2))"
      ],
      "metadata": {
        "colab": {
          "base_uri": "https://localhost:8080/"
        },
        "id": "O_zf9Tu7e_n7",
        "outputId": "9e823c43-f115-4d4b-efa1-ae1d15c47a97"
      },
      "execution_count": 111,
      "outputs": [
        {
          "output_type": "stream",
          "name": "stdout",
          "text": [
            "<class 'bool'>\n",
            "<class 'bool'>\n"
          ]
        }
      ]
    },
    {
      "cell_type": "code",
      "source": [
        "isinstance(bool1, bool)\n"
      ],
      "metadata": {
        "colab": {
          "base_uri": "https://localhost:8080/"
        },
        "id": "9plgtsQefFJx",
        "outputId": "91289821-5521-4ade-f406-bd1c486d142f"
      },
      "execution_count": 112,
      "outputs": [
        {
          "output_type": "execute_result",
          "data": {
            "text/plain": [
              "True"
            ]
          },
          "metadata": {},
          "execution_count": 112
        }
      ]
    },
    {
      "cell_type": "code",
      "source": [
        "bool(0)"
      ],
      "metadata": {
        "colab": {
          "base_uri": "https://localhost:8080/"
        },
        "id": "9BMNX9EifHms",
        "outputId": "e4306fd8-a6bf-4cf0-a1ed-46495d62c541"
      },
      "execution_count": 113,
      "outputs": [
        {
          "output_type": "execute_result",
          "data": {
            "text/plain": [
              "False"
            ]
          },
          "metadata": {},
          "execution_count": 113
        }
      ]
    },
    {
      "cell_type": "code",
      "source": [
        "bool(1)"
      ],
      "metadata": {
        "colab": {
          "base_uri": "https://localhost:8080/"
        },
        "id": "9hEf6jZ8fKKs",
        "outputId": "a6f6bd78-f912-4e4f-ef65-e326d2b96405"
      },
      "execution_count": 114,
      "outputs": [
        {
          "output_type": "execute_result",
          "data": {
            "text/plain": [
              "True"
            ]
          },
          "metadata": {},
          "execution_count": 114
        }
      ]
    },
    {
      "cell_type": "code",
      "source": [
        "bool (False)"
      ],
      "metadata": {
        "colab": {
          "base_uri": "https://localhost:8080/"
        },
        "id": "5PqiGd0hfNd_",
        "outputId": "d79b1cba-e7d4-4310-ba74-e75ba2f7f290"
      },
      "execution_count": 115,
      "outputs": [
        {
          "output_type": "execute_result",
          "data": {
            "text/plain": [
              "False"
            ]
          },
          "metadata": {},
          "execution_count": 115
        }
      ]
    },
    {
      "cell_type": "markdown",
      "source": [
        "String Creation"
      ],
      "metadata": {
        "id": "C9UXMbr1fYji"
      }
    },
    {
      "cell_type": "code",
      "source": [
        "str1 = \"HELLO VIGILANT\"\n",
        "print(str1)"
      ],
      "metadata": {
        "colab": {
          "base_uri": "https://localhost:8080/"
        },
        "id": "qsau4nwqfVY3",
        "outputId": "924e0e18-da3a-4590-e079-82062d6c96d3"
      },
      "execution_count": 116,
      "outputs": [
        {
          "output_type": "stream",
          "name": "stdout",
          "text": [
            "HELLO VIGILANT\n"
          ]
        }
      ]
    },
    {
      "cell_type": "markdown",
      "source": [
        "print same value for multiple times"
      ],
      "metadata": {
        "id": "4sTTVt8Nf1x8"
      }
    },
    {
      "cell_type": "code",
      "source": [
        "mystr1 = 'AK24 '  #AK24 alias mystr1 has some space in the end , space is also a charcter its does have some memory\n",
        "mystr1 = mystr1*5\n",
        "mystr1"
      ],
      "metadata": {
        "colab": {
          "base_uri": "https://localhost:8080/",
          "height": 35
        },
        "id": "EyJXgugIffHe",
        "outputId": "0a4eefba-c975-4a38-949b-c1b23a229d2f"
      },
      "execution_count": 117,
      "outputs": [
        {
          "output_type": "execute_result",
          "data": {
            "text/plain": [
              "'AK24 AK24 AK24 AK24 AK24 '"
            ],
            "application/vnd.google.colaboratory.intrinsic+json": {
              "type": "string"
            }
          },
          "metadata": {},
          "execution_count": 117
        }
      ]
    },
    {
      "cell_type": "code",
      "source": [
        "len(mystr1) #Length of string"
      ],
      "metadata": {
        "colab": {
          "base_uri": "https://localhost:8080/"
        },
        "id": "v7Ex-SEsfxCt",
        "outputId": "db4ee3b6-b67e-4e7d-8539-b6665b4c24c4"
      },
      "execution_count": 118,
      "outputs": [
        {
          "output_type": "execute_result",
          "data": {
            "text/plain": [
              "25"
            ]
          },
          "metadata": {},
          "execution_count": 118
        }
      ]
    },
    {
      "cell_type": "markdown",
      "source": [
        "String Indexing"
      ],
      "metadata": {
        "id": "4SnyGpXZgsRJ"
      }
    },
    {
      "cell_type": "code",
      "source": [
        "mystr1[:]"
      ],
      "metadata": {
        "colab": {
          "base_uri": "https://localhost:8080/",
          "height": 35
        },
        "id": "te2Ewn4ngdFx",
        "outputId": "e3d99ab6-75b1-4998-fdeb-c587c84a02fd"
      },
      "execution_count": 119,
      "outputs": [
        {
          "output_type": "execute_result",
          "data": {
            "text/plain": [
              "'AK24 AK24 AK24 AK24 AK24 '"
            ],
            "application/vnd.google.colaboratory.intrinsic+json": {
              "type": "string"
            }
          },
          "metadata": {},
          "execution_count": 119
        }
      ]
    },
    {
      "cell_type": "code",
      "source": [
        "mystr1[0:1]"
      ],
      "metadata": {
        "colab": {
          "base_uri": "https://localhost:8080/",
          "height": 35
        },
        "id": "0guqHcKhkjPy",
        "outputId": "3f0e7b79-8759-4039-ae35-b9cc5925822e"
      },
      "execution_count": 120,
      "outputs": [
        {
          "output_type": "execute_result",
          "data": {
            "text/plain": [
              "'A'"
            ],
            "application/vnd.google.colaboratory.intrinsic+json": {
              "type": "string"
            }
          },
          "metadata": {},
          "execution_count": 120
        }
      ]
    },
    {
      "cell_type": "code",
      "source": [
        "print(mystr1[-2])\n",
        "print(mystr1[len(mystr1)-2])"
      ],
      "metadata": {
        "colab": {
          "base_uri": "https://localhost:8080/"
        },
        "id": "9TrYb6KOlRhs",
        "outputId": "75ea5950-acb1-428a-8cb3-b66eff0f2ec8"
      },
      "execution_count": 121,
      "outputs": [
        {
          "output_type": "stream",
          "name": "stdout",
          "text": [
            "4\n",
            "4\n"
          ]
        }
      ]
    },
    {
      "cell_type": "code",
      "source": [
        "mystr1[-4:-1]"
      ],
      "metadata": {
        "colab": {
          "base_uri": "https://localhost:8080/",
          "height": 35
        },
        "id": "ro9CBfmFkruL",
        "outputId": "dbaf207c-387a-4f3e-f390-518215688ef8"
      },
      "execution_count": 122,
      "outputs": [
        {
          "output_type": "execute_result",
          "data": {
            "text/plain": [
              "'K24'"
            ],
            "application/vnd.google.colaboratory.intrinsic+json": {
              "type": "string"
            }
          },
          "metadata": {},
          "execution_count": 122
        }
      ]
    },
    {
      "cell_type": "markdown",
      "source": [
        "Update & Delete String"
      ],
      "metadata": {
        "id": "wvS2om1omNBF"
      }
    },
    {
      "cell_type": "code",
      "source": [
        "str1"
      ],
      "metadata": {
        "colab": {
          "base_uri": "https://localhost:8080/",
          "height": 35
        },
        "id": "s34BfKFxky3Q",
        "outputId": "5e231ef1-14d2-4047-db7b-636b2bab2c4e"
      },
      "execution_count": 123,
      "outputs": [
        {
          "output_type": "execute_result",
          "data": {
            "text/plain": [
              "'HELLO VIGILANT'"
            ],
            "application/vnd.google.colaboratory.intrinsic+json": {
              "type": "string"
            }
          },
          "metadata": {},
          "execution_count": 123
        }
      ]
    },
    {
      "cell_type": "code",
      "source": [
        "#Strings are immutable which means elements of a string cannot be changed once they created\n",
        "str1[0:2] = 'HI'"
      ],
      "metadata": {
        "colab": {
          "base_uri": "https://localhost:8080/",
          "height": 193
        },
        "id": "uyUrwLJYmx6t",
        "outputId": "4db8e653-9dff-42d5-b181-e940421f129d"
      },
      "execution_count": 124,
      "outputs": [
        {
          "output_type": "error",
          "ename": "TypeError",
          "evalue": "ignored",
          "traceback": [
            "\u001b[0;31m---------------------------------------------------------------------------\u001b[0m",
            "\u001b[0;31mTypeError\u001b[0m                                 Traceback (most recent call last)",
            "\u001b[0;32m<ipython-input-124-566d514ae0c2>\u001b[0m in \u001b[0;36m<cell line: 2>\u001b[0;34m()\u001b[0m\n\u001b[1;32m      1\u001b[0m \u001b[0;31m#Strings are immutable which means elements of a string cannot be changed once they created\u001b[0m\u001b[0;34m\u001b[0m\u001b[0;34m\u001b[0m\u001b[0m\n\u001b[0;32m----> 2\u001b[0;31m \u001b[0mstr1\u001b[0m\u001b[0;34m[\u001b[0m\u001b[0;36m0\u001b[0m\u001b[0;34m:\u001b[0m\u001b[0;36m2\u001b[0m\u001b[0;34m]\u001b[0m \u001b[0;34m=\u001b[0m \u001b[0;34m'HI'\u001b[0m\u001b[0;34m\u001b[0m\u001b[0;34m\u001b[0m\u001b[0m\n\u001b[0m",
            "\u001b[0;31mTypeError\u001b[0m: 'str' object does not support item assignment"
          ]
        }
      ]
    },
    {
      "cell_type": "code",
      "source": [
        "del str1 # Delete a string\n",
        "print(str1)"
      ],
      "metadata": {
        "colab": {
          "base_uri": "https://localhost:8080/",
          "height": 193
        },
        "id": "XIuhohGTm_7x",
        "outputId": "ee609287-9004-46a3-97f4-95b445cbbddb"
      },
      "execution_count": 125,
      "outputs": [
        {
          "output_type": "error",
          "ename": "NameError",
          "evalue": "ignored",
          "traceback": [
            "\u001b[0;31m---------------------------------------------------------------------------\u001b[0m",
            "\u001b[0;31mNameError\u001b[0m                                 Traceback (most recent call last)",
            "\u001b[0;32m<ipython-input-125-f6f04f2a06d7>\u001b[0m in \u001b[0;36m<cell line: 2>\u001b[0;34m()\u001b[0m\n\u001b[1;32m      1\u001b[0m \u001b[0;32mdel\u001b[0m \u001b[0mstr1\u001b[0m \u001b[0;31m# Delete a string\u001b[0m\u001b[0;34m\u001b[0m\u001b[0;34m\u001b[0m\u001b[0m\n\u001b[0;32m----> 2\u001b[0;31m \u001b[0mprint\u001b[0m\u001b[0;34m(\u001b[0m\u001b[0mstr1\u001b[0m\u001b[0;34m)\u001b[0m\u001b[0;34m\u001b[0m\u001b[0;34m\u001b[0m\u001b[0m\n\u001b[0m",
            "\u001b[0;31mNameError\u001b[0m: name 'str1' is not defined"
          ]
        }
      ]
    },
    {
      "cell_type": "markdown",
      "source": [
        "String concatenation"
      ],
      "metadata": {
        "id": "EMOuWpS1nQeB"
      }
    },
    {
      "cell_type": "code",
      "source": [
        "# String concatenation\n",
        "sc_1 = \"Hello\"\n",
        "sc_2 = \"aKanakamalla\"\n",
        "sc_3 = sc_1 + sc_2\n",
        "print(sc_3)"
      ],
      "metadata": {
        "colab": {
          "base_uri": "https://localhost:8080/"
        },
        "id": "aPKe8jomnJcN",
        "outputId": "95f178ec-ccb6-4cd5-bc27-0a428ad97174"
      },
      "execution_count": 126,
      "outputs": [
        {
          "output_type": "stream",
          "name": "stdout",
          "text": [
            "HelloaKanakamalla\n"
          ]
        }
      ]
    },
    {
      "cell_type": "code",
      "source": [
        "# String concatenation\n",
        "sc_11 = \"Hello\"\n",
        "sc_22 = \"aKanakamalla\"\n",
        "sc_33 = sc_11 + \" \" + sc_22\n",
        "print(sc_33)"
      ],
      "metadata": {
        "colab": {
          "base_uri": "https://localhost:8080/"
        },
        "id": "ZR__y6a2n2m_",
        "outputId": "b7b38ea5-4578-4472-b6e6-316d033bbc0a"
      },
      "execution_count": 127,
      "outputs": [
        {
          "output_type": "stream",
          "name": "stdout",
          "text": [
            "Hello aKanakamalla\n"
          ]
        }
      ]
    },
    {
      "cell_type": "markdown",
      "source": [
        "Iterating through a String"
      ],
      "metadata": {
        "id": "82a2_cBiosVO"
      }
    },
    {
      "cell_type": "code",
      "source": [
        "mystr1"
      ],
      "metadata": {
        "colab": {
          "base_uri": "https://localhost:8080/",
          "height": 35
        },
        "id": "ZAj_rsOFomUg",
        "outputId": "48522119-a771-48b2-9d2f-e9224a96a013"
      },
      "execution_count": 128,
      "outputs": [
        {
          "output_type": "execute_result",
          "data": {
            "text/plain": [
              "'AK24 AK24 AK24 AK24 AK24 '"
            ],
            "application/vnd.google.colaboratory.intrinsic+json": {
              "type": "string"
            }
          },
          "metadata": {},
          "execution_count": 128
        }
      ]
    },
    {
      "cell_type": "code",
      "source": [
        "# Iteration\n",
        "for i in mystr1:\n",
        " print(i)"
      ],
      "metadata": {
        "colab": {
          "base_uri": "https://localhost:8080/"
        },
        "id": "FhYEMt6LoxXg",
        "outputId": "0740884c-9211-48aa-e090-a3f0d5a279ca"
      },
      "execution_count": 129,
      "outputs": [
        {
          "output_type": "stream",
          "name": "stdout",
          "text": [
            "A\n",
            "K\n",
            "2\n",
            "4\n",
            " \n",
            "A\n",
            "K\n",
            "2\n",
            "4\n",
            " \n",
            "A\n",
            "K\n",
            "2\n",
            "4\n",
            " \n",
            "A\n",
            "K\n",
            "2\n",
            "4\n",
            " \n",
            "A\n",
            "K\n",
            "2\n",
            "4\n",
            " \n"
          ]
        }
      ]
    },
    {
      "cell_type": "code",
      "source": [
        "for i in enumerate(mystr1):\n",
        " print(i)"
      ],
      "metadata": {
        "colab": {
          "base_uri": "https://localhost:8080/"
        },
        "id": "3zvLXMxhpBQp",
        "outputId": "1398bf0b-b171-4f6e-db42-e47c8c6daacf"
      },
      "execution_count": 130,
      "outputs": [
        {
          "output_type": "stream",
          "name": "stdout",
          "text": [
            "(0, 'A')\n",
            "(1, 'K')\n",
            "(2, '2')\n",
            "(3, '4')\n",
            "(4, ' ')\n",
            "(5, 'A')\n",
            "(6, 'K')\n",
            "(7, '2')\n",
            "(8, '4')\n",
            "(9, ' ')\n",
            "(10, 'A')\n",
            "(11, 'K')\n",
            "(12, '2')\n",
            "(13, '4')\n",
            "(14, ' ')\n",
            "(15, 'A')\n",
            "(16, 'K')\n",
            "(17, '2')\n",
            "(18, '4')\n",
            "(19, ' ')\n",
            "(20, 'A')\n",
            "(21, 'K')\n",
            "(22, '2')\n",
            "(23, '4')\n",
            "(24, ' ')\n"
          ]
        }
      ]
    },
    {
      "cell_type": "code",
      "source": [
        "print(list(enumerate(mystr1)))  # Enumerate method adds a counter to an iterable and return list\n",
        "print('\\t')\n",
        "print('\\n') # New/next line\n",
        "print(len(list(enumerate(mystr1))))"
      ],
      "metadata": {
        "colab": {
          "base_uri": "https://localhost:8080/"
        },
        "id": "s6wUiMO5pIeR",
        "outputId": "7599e462-0c25-424b-a8d7-fb1f11aede5d"
      },
      "execution_count": 131,
      "outputs": [
        {
          "output_type": "stream",
          "name": "stdout",
          "text": [
            "[(0, 'A'), (1, 'K'), (2, '2'), (3, '4'), (4, ' '), (5, 'A'), (6, 'K'), (7, '2'), (8, '4'), (9, ' '), (10, 'A'), (11, 'K'), (12, '2'), (13, '4'), (14, ' '), (15, 'A'), (16, 'K'), (17, '2'), (18, '4'), (19, ' '), (20, 'A'), (21, 'K'), (22, '2'), (23, '4'), (24, ' ')]\n",
            "\t\n",
            "25\n"
          ]
        }
      ]
    },
    {
      "cell_type": "markdown",
      "source": [
        "String Membership"
      ],
      "metadata": {
        "id": "ebPXIxSrqb4_"
      }
    },
    {
      "cell_type": "code",
      "source": [
        "# String membership\n",
        "mystr1 = \"Hello VIGILANT\"\n",
        "print ('Hello' in mystr1) # Check whether substring \"Hello\" is present in string\n",
        "print ('VIGILANT' in mystr1) # Check whether substring \"Everyone\" is present in string\n",
        "print ('Hi' in mystr1) # Check whether substring \"Hi\" is present in string \"mysrt1\""
      ],
      "metadata": {
        "colab": {
          "base_uri": "https://localhost:8080/"
        },
        "id": "X-2riG_fpaBY",
        "outputId": "f5edbe84-33a5-4e47-8630-6a89f12bea77"
      },
      "execution_count": 132,
      "outputs": [
        {
          "output_type": "stream",
          "name": "stdout",
          "text": [
            "True\n",
            "True\n",
            "False\n"
          ]
        }
      ]
    },
    {
      "cell_type": "markdown",
      "source": [
        "String Functions"
      ],
      "metadata": {
        "id": "5fy16VqfzuWl"
      }
    },
    {
      "cell_type": "code",
      "source": [
        "mystr2 = \" Hello Everyone \"\n",
        "mystr2"
      ],
      "metadata": {
        "colab": {
          "base_uri": "https://localhost:8080/",
          "height": 35
        },
        "id": "MEgQ-nXUqu1q",
        "outputId": "dc278959-32a7-42d9-9b67-218a1f45860f"
      },
      "execution_count": 133,
      "outputs": [
        {
          "output_type": "execute_result",
          "data": {
            "text/plain": [
              "' Hello Everyone '"
            ],
            "application/vnd.google.colaboratory.intrinsic+json": {
              "type": "string"
            }
          },
          "metadata": {},
          "execution_count": 133
        }
      ]
    },
    {
      "cell_type": "code",
      "source": [
        "mystr2.strip() # Removes white space from begining & end"
      ],
      "metadata": {
        "colab": {
          "base_uri": "https://localhost:8080/",
          "height": 35
        },
        "id": "7RT4H7R02UzU",
        "outputId": "aa25b4d3-8e32-4869-b7f5-a703b1657c03"
      },
      "execution_count": 134,
      "outputs": [
        {
          "output_type": "execute_result",
          "data": {
            "text/plain": [
              "'Hello Everyone'"
            ],
            "application/vnd.google.colaboratory.intrinsic+json": {
              "type": "string"
            }
          },
          "metadata": {},
          "execution_count": 134
        }
      ]
    },
    {
      "cell_type": "code",
      "source": [
        "mystr2.rstrip() # Removes all whitespaces at the end of the string"
      ],
      "metadata": {
        "colab": {
          "base_uri": "https://localhost:8080/",
          "height": 35
        },
        "id": "ITIcFqYb2YeI",
        "outputId": "c628497e-449a-47eb-af98-194da89bae92"
      },
      "execution_count": 135,
      "outputs": [
        {
          "output_type": "execute_result",
          "data": {
            "text/plain": [
              "' Hello Everyone'"
            ],
            "application/vnd.google.colaboratory.intrinsic+json": {
              "type": "string"
            }
          },
          "metadata": {},
          "execution_count": 135
        }
      ]
    },
    {
      "cell_type": "code",
      "source": [
        "mystr2.lstrip() # Removes all whitespaces at the begining of the string"
      ],
      "metadata": {
        "colab": {
          "base_uri": "https://localhost:8080/",
          "height": 35
        },
        "id": "MmJ5sCW93E8V",
        "outputId": "121047c2-3e57-422e-88d6-5dfb11bada85"
      },
      "execution_count": 136,
      "outputs": [
        {
          "output_type": "execute_result",
          "data": {
            "text/plain": [
              "'Hello Everyone '"
            ],
            "application/vnd.google.colaboratory.intrinsic+json": {
              "type": "string"
            }
          },
          "metadata": {},
          "execution_count": 136
        }
      ]
    },
    {
      "cell_type": "code",
      "source": [
        "mystr2 = \"*********Hello Everyone***********All the Best**********\"\n",
        "mystr2"
      ],
      "metadata": {
        "colab": {
          "base_uri": "https://localhost:8080/",
          "height": 35
        },
        "id": "oKl0Pmke3KX1",
        "outputId": "41d88078-3317-4575-e91c-2950c64dd33b"
      },
      "execution_count": 137,
      "outputs": [
        {
          "output_type": "execute_result",
          "data": {
            "text/plain": [
              "'*********Hello Everyone***********All the Best**********'"
            ],
            "application/vnd.google.colaboratory.intrinsic+json": {
              "type": "string"
            }
          },
          "metadata": {},
          "execution_count": 137
        }
      ]
    },
    {
      "cell_type": "code",
      "source": [
        "mystr2.strip('*') # Removes all '*' characters from begining & end of the string"
      ],
      "metadata": {
        "colab": {
          "base_uri": "https://localhost:8080/",
          "height": 35
        },
        "id": "pnBsRz3t3OPb",
        "outputId": "dc86e2a2-6583-4d0c-94d1-508189cb7df6"
      },
      "execution_count": 138,
      "outputs": [
        {
          "output_type": "execute_result",
          "data": {
            "text/plain": [
              "'Hello Everyone***********All the Best'"
            ],
            "application/vnd.google.colaboratory.intrinsic+json": {
              "type": "string"
            }
          },
          "metadata": {},
          "execution_count": 138
        }
      ]
    },
    {
      "cell_type": "code",
      "source": [
        "mystr2.rstrip('*') # Removes all '*' characters at the end of the string"
      ],
      "metadata": {
        "colab": {
          "base_uri": "https://localhost:8080/",
          "height": 35
        },
        "id": "zuGZKaPr3kqE",
        "outputId": "6982a02a-a30c-4815-d883-0e210fc3c10a"
      },
      "execution_count": 140,
      "outputs": [
        {
          "output_type": "execute_result",
          "data": {
            "text/plain": [
              "'*********Hello Everyone***********All the Best'"
            ],
            "application/vnd.google.colaboratory.intrinsic+json": {
              "type": "string"
            }
          },
          "metadata": {},
          "execution_count": 140
        }
      ]
    },
    {
      "cell_type": "code",
      "source": [
        "mystr2.lstrip('*') # Removes all '*' characters at the begining of the string"
      ],
      "metadata": {
        "colab": {
          "base_uri": "https://localhost:8080/",
          "height": 35
        },
        "id": "3QXmGoA13qox",
        "outputId": "9b9065f9-1581-4976-fb80-45cbfcfcf396"
      },
      "execution_count": 141,
      "outputs": [
        {
          "output_type": "execute_result",
          "data": {
            "text/plain": [
              "'Hello Everyone***********All the Best**********'"
            ],
            "application/vnd.google.colaboratory.intrinsic+json": {
              "type": "string"
            }
          },
          "metadata": {},
          "execution_count": 141
        }
      ]
    },
    {
      "cell_type": "code",
      "source": [
        "mystr2 = \" Hello Everyone \""
      ],
      "metadata": {
        "id": "bxerugoG3-X7"
      },
      "execution_count": 142,
      "outputs": []
    },
    {
      "cell_type": "code",
      "source": [
        "mystr2.lower() # Return whole string in lowercase"
      ],
      "metadata": {
        "colab": {
          "base_uri": "https://localhost:8080/",
          "height": 35
        },
        "id": "TwKHKZOL54Av",
        "outputId": "dbf042cb-ddf4-460e-a280-bea526e96cb5"
      },
      "execution_count": 143,
      "outputs": [
        {
          "output_type": "execute_result",
          "data": {
            "text/plain": [
              "' hello everyone '"
            ],
            "application/vnd.google.colaboratory.intrinsic+json": {
              "type": "string"
            }
          },
          "metadata": {},
          "execution_count": 143
        }
      ]
    },
    {
      "cell_type": "code",
      "source": [
        "mystr2.upper() # Return whole string in uppercase"
      ],
      "metadata": {
        "colab": {
          "base_uri": "https://localhost:8080/",
          "height": 35
        },
        "id": "Cba2Aegf6Cb0",
        "outputId": "2947cf88-4627-4b47-9d50-777851e0fb14"
      },
      "execution_count": 144,
      "outputs": [
        {
          "output_type": "execute_result",
          "data": {
            "text/plain": [
              "' HELLO EVERYONE '"
            ],
            "application/vnd.google.colaboratory.intrinsic+json": {
              "type": "string"
            }
          },
          "metadata": {},
          "execution_count": 144
        }
      ]
    },
    {
      "cell_type": "code",
      "source": [
        "mystr2.replace(\"He\" , \"Ho\") #Replace substring \"He\" with \"Ho\""
      ],
      "metadata": {
        "colab": {
          "base_uri": "https://localhost:8080/",
          "height": 35
        },
        "id": "1idK0fOp6TF2",
        "outputId": "c84ce1e0-152b-4669-cce5-043dbf6839a9"
      },
      "execution_count": 145,
      "outputs": [
        {
          "output_type": "execute_result",
          "data": {
            "text/plain": [
              "' Hollo Everyone '"
            ],
            "application/vnd.google.colaboratory.intrinsic+json": {
              "type": "string"
            }
          },
          "metadata": {},
          "execution_count": 145
        }
      ]
    },
    {
      "cell_type": "code",
      "source": [
        "mystr2.replace(\" \" , \"\") # Remove all whitespaces using replace function"
      ],
      "metadata": {
        "colab": {
          "base_uri": "https://localhost:8080/",
          "height": 35
        },
        "id": "549vxjqF6eAk",
        "outputId": "62bb24a7-daf9-4384-8391-4d7dda739650"
      },
      "execution_count": 146,
      "outputs": [
        {
          "output_type": "execute_result",
          "data": {
            "text/plain": [
              "'HelloEveryone'"
            ],
            "application/vnd.google.colaboratory.intrinsic+json": {
              "type": "string"
            }
          },
          "metadata": {},
          "execution_count": 146
        }
      ]
    },
    {
      "cell_type": "code",
      "source": [
        "mystr3 = \"one two three one two two three\"\n",
        "mystr3"
      ],
      "metadata": {
        "colab": {
          "base_uri": "https://localhost:8080/",
          "height": 35
        },
        "id": "32TqWxF-6h5L",
        "outputId": "0346753a-dd8c-4a92-d773-0ff5de7fe8ea"
      },
      "execution_count": 147,
      "outputs": [
        {
          "output_type": "execute_result",
          "data": {
            "text/plain": [
              "'one two three one two two three'"
            ],
            "application/vnd.google.colaboratory.intrinsic+json": {
              "type": "string"
            }
          },
          "metadata": {},
          "execution_count": 147
        }
      ]
    },
    {
      "cell_type": "code",
      "source": [
        "mystr3.count(\"one\") # Number of times substring \"one\" occurred in string."
      ],
      "metadata": {
        "colab": {
          "base_uri": "https://localhost:8080/"
        },
        "id": "dd_feb6z6-eF",
        "outputId": "a0965114-377c-406e-eda5-1cd232ca1d93"
      },
      "execution_count": 148,
      "outputs": [
        {
          "output_type": "execute_result",
          "data": {
            "text/plain": [
              "2"
            ]
          },
          "metadata": {},
          "execution_count": 148
        }
      ]
    },
    {
      "cell_type": "code",
      "source": [
        "mystr3 = \"one two three one two two three\"\n",
        "c = {}\n",
        "\n",
        "for i in mystr3.split():\n",
        "    c[i] = c.get(i, 0) + 1\n",
        "\n",
        "for i, ci in c.items():\n",
        "    print(f\"{i}: {ci}\")"
      ],
      "metadata": {
        "colab": {
          "base_uri": "https://localhost:8080/"
        },
        "id": "QRoSC1L75CVD",
        "outputId": "3366f822-09bb-4682-f8d7-d2830c50edd9"
      },
      "execution_count": 13,
      "outputs": [
        {
          "output_type": "stream",
          "name": "stdout",
          "text": [
            "one: 2\n",
            "two: 3\n",
            "three: 2\n"
          ]
        }
      ]
    },
    {
      "cell_type": "code",
      "source": [
        "mystr4 = \"one two three four one two two three five five six seven six seven one\""
      ],
      "metadata": {
        "id": "eTh93Lgn7KSy"
      },
      "execution_count": 149,
      "outputs": []
    },
    {
      "cell_type": "code",
      "source": [
        "mylist = mystr4.split() # Split String into substrings\n",
        "mylist"
      ],
      "metadata": {
        "colab": {
          "base_uri": "https://localhost:8080/"
        },
        "id": "V6M2HwXV7ptn",
        "outputId": "0af0c8b9-a041-426f-8ad3-02f97b525d7d"
      },
      "execution_count": 150,
      "outputs": [
        {
          "output_type": "execute_result",
          "data": {
            "text/plain": [
              "['one',\n",
              " 'two',\n",
              " 'three',\n",
              " 'four',\n",
              " 'one',\n",
              " 'two',\n",
              " 'two',\n",
              " 'three',\n",
              " 'five',\n",
              " 'five',\n",
              " 'six',\n",
              " 'seven',\n",
              " 'six',\n",
              " 'seven',\n",
              " 'one']"
            ]
          },
          "metadata": {},
          "execution_count": 150
        }
      ]
    },
    {
      "cell_type": "code",
      "source": [
        "# Combining string & numbers using format method   \"fStrings\"\n",
        "item1 = 0\n",
        "item2 = 1\n",
        "item3 = 2\n",
        "res = \"Cost of item1 , item2 and item3 are {} , {} and {}\"\n",
        "print(res.format(item1,item2,item3))"
      ],
      "metadata": {
        "colab": {
          "base_uri": "https://localhost:8080/"
        },
        "id": "vhpsPlBl7u5J",
        "outputId": "b2babfa8-24a1-4727-a872-07106fe45ea1"
      },
      "execution_count": 151,
      "outputs": [
        {
          "output_type": "stream",
          "name": "stdout",
          "text": [
            "Cost of item1 , item2 and item3 are 0 , 1 and 2\n"
          ]
        }
      ]
    },
    {
      "cell_type": "code",
      "source": [
        "uff = \" WELCOME EVERYONE \"\n",
        "uff = uff.center(100) # center align the string using a specific character\n",
        "print(uff)"
      ],
      "metadata": {
        "colab": {
          "base_uri": "https://localhost:8080/"
        },
        "id": "oFufGqVc79SR",
        "outputId": "bbf9ffef-7bd3-496c-8bb3-8b9702fab0c3"
      },
      "execution_count": 6,
      "outputs": [
        {
          "output_type": "stream",
          "name": "stdout",
          "text": [
            "                                          WELCOME EVERYONE                                          \n"
          ]
        }
      ]
    },
    {
      "cell_type": "code",
      "source": [
        "uff2 = \" WELCOME EVERYONE \"\n",
        "uff2 = uff2.center(100,'*')\n",
        "print(uff2)"
      ],
      "metadata": {
        "colab": {
          "base_uri": "https://localhost:8080/"
        },
        "id": "qUlOXr3F9p0b",
        "outputId": "6a58581a-8688-4b98-c072-7a8b3c6c561e"
      },
      "execution_count": 153,
      "outputs": [
        {
          "output_type": "stream",
          "name": "stdout",
          "text": [
            "***************************************** WELCOME EVERYONE *****************************************\n"
          ]
        }
      ]
    },
    {
      "cell_type": "code",
      "source": [
        "uff_2 = \" WELCOME EVERYONE \"\n",
        "uff_2 = uff_2.rjust(50)\n",
        "print(uff_2)"
      ],
      "metadata": {
        "colab": {
          "base_uri": "https://localhost:8080/"
        },
        "id": "Zjrl2h8U97wZ",
        "outputId": "32567a30-c517-4297-ea48-a25405fa4039"
      },
      "execution_count": 154,
      "outputs": [
        {
          "output_type": "stream",
          "name": "stdout",
          "text": [
            "                                 WELCOME EVERYONE \n"
          ]
        }
      ]
    },
    {
      "cell_type": "code",
      "source": [
        "uff_22 = \" WELCOME EVERYONE \"\n",
        "uff_22 = uff_22.rjust(50,'*')\n",
        "print(uff_22)"
      ],
      "metadata": {
        "colab": {
          "base_uri": "https://localhost:8080/"
        },
        "id": "5SDi7kJ3-Uvj",
        "outputId": "6e498687-3822-4e15-e121-bfcd0eedf15a"
      },
      "execution_count": 155,
      "outputs": [
        {
          "output_type": "stream",
          "name": "stdout",
          "text": [
            "******************************** WELCOME EVERYONE \n"
          ]
        }
      ]
    },
    {
      "cell_type": "code",
      "source": [
        "uff_222 = \"one two three four five six seven\"\n",
        "loc = uff_222.find(\"five\") # Find the location of word 'five' in the string \"uff_222\"\n",
        "print(loc)\n",
        "l_index = uff_222.index(\"five\")\n",
        "print(l_index)"
      ],
      "metadata": {
        "colab": {
          "base_uri": "https://localhost:8080/"
        },
        "id": "MiTBxOjr-iV2",
        "outputId": "f274b7b5-4234-49da-d238-db5e293aa6ed"
      },
      "execution_count": 157,
      "outputs": [
        {
          "output_type": "stream",
          "name": "stdout",
          "text": [
            "19\n",
            "19\n"
          ]
        }
      ]
    },
    {
      "cell_type": "markdown",
      "source": [
        "Using Escape Character"
      ],
      "metadata": {
        "id": "oNPnUooAAFoR"
      }
    },
    {
      "cell_type": "code",
      "source": [
        "#Using double quotes in the string is not allowed.\n",
        "Stark = \"My favourite series is \"Iron Man\"\""
      ],
      "metadata": {
        "colab": {
          "base_uri": "https://localhost:8080/",
          "height": 141
        },
        "id": "cahUvG2X-1Q8",
        "outputId": "b94a86b2-8abc-4ac1-b7d0-1c35376cbbbf"
      },
      "execution_count": 161,
      "outputs": [
        {
          "output_type": "error",
          "ename": "SyntaxError",
          "evalue": "ignored",
          "traceback": [
            "\u001b[0;36m  File \u001b[0;32m\"<ipython-input-161-2430a2fc8776>\"\u001b[0;36m, line \u001b[0;32m2\u001b[0m\n\u001b[0;31m    Stark = \"My favourite cinematic universe is \"Iron Man\"\"\u001b[0m\n\u001b[0m                                                 ^\u001b[0m\n\u001b[0;31mSyntaxError\u001b[0m\u001b[0;31m:\u001b[0m invalid syntax\n"
          ]
        }
      ]
    },
    {
      "cell_type": "code",
      "source": [
        "#Using escape character to allow illegal characters\n",
        "Stark = \"My favourite series is \\\"Iron Man\\\"\"\n",
        "print(Stark)"
      ],
      "metadata": {
        "colab": {
          "base_uri": "https://localhost:8080/"
        },
        "id": "0UQPV4Me_wqk",
        "outputId": "c58d54ac-bc3e-46b9-dc2b-59ef2cef981e"
      },
      "execution_count": 163,
      "outputs": [
        {
          "output_type": "stream",
          "name": "stdout",
          "text": [
            "My favourite series is \"Iron Man\"\n"
          ]
        }
      ]
    },
    {
      "cell_type": "markdown",
      "source": [
        "**LIST**"
      ],
      "metadata": {
        "id": "GBPccNhrFQHE"
      }
    },
    {
      "cell_type": "code",
      "source": [
        "list1 = [] # Empty List\n",
        "print(type(list1))\n",
        "list2 = [10,30,60] # List of integers numbers\n",
        "list3 = [10.77,30.66,60.89] # List of float numbers\n",
        "list4 = ['one','two' , \"three\"] # List of strings\n",
        "list5 = ['Asif', 25 ,[50, 100],[150, 90]] # Nested Lists\n",
        "list6 = [100, 'Asif', 17.765] # List of mixed data types\n",
        "list7 = ['Asif', 25 ,[50, 100],[150, 90] , {'John' , 'David'}]\n",
        "len(list6) #Length of list"
      ],
      "metadata": {
        "colab": {
          "base_uri": "https://localhost:8080/"
        },
        "id": "EIp8pf9dEdjJ",
        "outputId": "b168ec48-d567-450f-b684-8f27393611e5"
      },
      "execution_count": 164,
      "outputs": [
        {
          "output_type": "stream",
          "name": "stdout",
          "text": [
            "<class 'list'>\n"
          ]
        },
        {
          "output_type": "execute_result",
          "data": {
            "text/plain": [
              "3"
            ]
          },
          "metadata": {},
          "execution_count": 164
        }
      ]
    },
    {
      "cell_type": "code",
      "source": [
        "print(list2[0]) # Retreive first element of the list\n",
        "print(list4[0]) # Retreive first element of the list\n",
        "print(list4[0][2]) # Nested indexing - Access the first character of the first list elem\n",
        "print(list4[-1]) # Last item of the list\n",
        "print(list5[-1]) # Last item of the list"
      ],
      "metadata": {
        "colab": {
          "base_uri": "https://localhost:8080/"
        },
        "id": "-cNFINhtFbtQ",
        "outputId": "f797a0ea-4c5a-44cc-db87-c492de0ce126"
      },
      "execution_count": 166,
      "outputs": [
        {
          "output_type": "stream",
          "name": "stdout",
          "text": [
            "10\n",
            "one\n",
            "e\n",
            "three\n",
            "[150, 90]\n"
          ]
        }
      ]
    },
    {
      "cell_type": "code",
      "source": [
        "mylist = ['one' , 'two' , 'three' , 'four' , 'five' , 'six' , 'seven' , 'eight']"
      ],
      "metadata": {
        "id": "fkQeO56bFshO"
      },
      "execution_count": 170,
      "outputs": []
    },
    {
      "cell_type": "code",
      "source": [
        "print(mylist)\n",
        "mylist.append('nine') # Add an item to the end of the list\n",
        "print(mylist)\n",
        "mylist.insert(9,'ten') # Add item at index location 9\n",
        "print(mylist)\n"
      ],
      "metadata": {
        "colab": {
          "base_uri": "https://localhost:8080/"
        },
        "id": "iSiI_5UfF_V1",
        "outputId": "95031588-3cad-40be-bba6-c4aea4d67989"
      },
      "execution_count": 171,
      "outputs": [
        {
          "output_type": "stream",
          "name": "stdout",
          "text": [
            "['one', 'two', 'three', 'four', 'five', 'six', 'seven', 'eight']\n",
            "['one', 'two', 'three', 'four', 'five', 'six', 'seven', 'eight', 'nine']\n",
            "['one', 'two', 'three', 'four', 'five', 'six', 'seven', 'eight', 'nine', 'ten']\n"
          ]
        }
      ]
    },
    {
      "cell_type": "code",
      "source": [
        "mylist.insert(1,'ONE') # Add item at index location 1\n",
        "print(mylist)"
      ],
      "metadata": {
        "colab": {
          "base_uri": "https://localhost:8080/"
        },
        "id": "8vgaD902GMbv",
        "outputId": "295f98d8-1abc-4a97-fb60-7db86d12265a"
      },
      "execution_count": 172,
      "outputs": [
        {
          "output_type": "stream",
          "name": "stdout",
          "text": [
            "['one', 'ONE', 'two', 'three', 'four', 'five', 'six', 'seven', 'eight', 'nine', 'ten']\n"
          ]
        }
      ]
    },
    {
      "cell_type": "code",
      "source": [
        "mylist.remove('ONE') # Remove item \"ONE\"\n",
        "mylist"
      ],
      "metadata": {
        "colab": {
          "base_uri": "https://localhost:8080/"
        },
        "id": "dJPpt6uKGaXL",
        "outputId": "c1902f5f-35f9-4b22-c02e-fa8c325a85f5"
      },
      "execution_count": 173,
      "outputs": [
        {
          "output_type": "execute_result",
          "data": {
            "text/plain": [
              "['one', 'two', 'three', 'four', 'five', 'six', 'seven', 'eight', 'nine', 'ten']"
            ]
          },
          "metadata": {},
          "execution_count": 173
        }
      ]
    },
    {
      "cell_type": "code",
      "source": [
        "mylist.pop() # Remove last item of the list\n",
        "mylist"
      ],
      "metadata": {
        "colab": {
          "base_uri": "https://localhost:8080/"
        },
        "id": "Kgi1d0utGfcs",
        "outputId": "c8e95fa1-b7b2-4090-b842-97bbf5e11cca"
      },
      "execution_count": 174,
      "outputs": [
        {
          "output_type": "execute_result",
          "data": {
            "text/plain": [
              "['one', 'two', 'three', 'four', 'five', 'six', 'seven', 'eight', 'nine']"
            ]
          },
          "metadata": {},
          "execution_count": 174
        }
      ]
    },
    {
      "cell_type": "code",
      "source": [
        "mylist.pop(8) # Remove item at index location 8\n",
        "mylist"
      ],
      "metadata": {
        "colab": {
          "base_uri": "https://localhost:8080/"
        },
        "id": "gOy-tUPSGi9j",
        "outputId": "e957202b-d53d-49db-f2ea-4d8c52373e4c"
      },
      "execution_count": 175,
      "outputs": [
        {
          "output_type": "execute_result",
          "data": {
            "text/plain": [
              "['one', 'two', 'three', 'four', 'five', 'six', 'seven', 'eight']"
            ]
          },
          "metadata": {},
          "execution_count": 175
        }
      ]
    },
    {
      "cell_type": "code",
      "source": [
        "del mylist[7] # Remove item at index location 7\n",
        "mylist"
      ],
      "metadata": {
        "colab": {
          "base_uri": "https://localhost:8080/"
        },
        "id": "p4WR9Q0YGl96",
        "outputId": "2129fe9e-c1c3-453a-aed4-f088f8031789"
      },
      "execution_count": 176,
      "outputs": [
        {
          "output_type": "execute_result",
          "data": {
            "text/plain": [
              "['one', 'two', 'three', 'four', 'five', 'six', 'seven']"
            ]
          },
          "metadata": {},
          "execution_count": 176
        }
      ]
    },
    {
      "cell_type": "code",
      "source": [
        "# Change value of the string\n",
        "mylist[0] = 1\n",
        "mylist[1] = 2\n",
        "mylist[2] = 3\n",
        "mylist"
      ],
      "metadata": {
        "colab": {
          "base_uri": "https://localhost:8080/"
        },
        "id": "hseXpH5LGpce",
        "outputId": "3ff4b722-bd50-44d3-9fd2-66d8f6a38f5b"
      },
      "execution_count": 177,
      "outputs": [
        {
          "output_type": "execute_result",
          "data": {
            "text/plain": [
              "[1, 2, 3, 'four', 'five', 'six', 'seven']"
            ]
          },
          "metadata": {},
          "execution_count": 177
        }
      ]
    },
    {
      "cell_type": "code",
      "source": [
        "mylist = [i + 1 for i in range(7)]\n",
        "mylist"
      ],
      "metadata": {
        "colab": {
          "base_uri": "https://localhost:8080/"
        },
        "id": "tzUjkGeSGs5X",
        "outputId": "995cc375-ef96-43ce-aaeb-e68041d2fec4"
      },
      "execution_count": 181,
      "outputs": [
        {
          "output_type": "execute_result",
          "data": {
            "text/plain": [
              "[1, 2, 3, 4, 5, 6, 7]"
            ]
          },
          "metadata": {},
          "execution_count": 181
        }
      ]
    },
    {
      "cell_type": "code",
      "source": [
        "mylist.clear() # Empty List / Delete all items in the list\n",
        "mylist"
      ],
      "metadata": {
        "colab": {
          "base_uri": "https://localhost:8080/"
        },
        "id": "HbVXLPwAHLKi",
        "outputId": "99540030-7594-48f5-b01c-ce04540884a6"
      },
      "execution_count": 182,
      "outputs": [
        {
          "output_type": "execute_result",
          "data": {
            "text/plain": [
              "[]"
            ]
          },
          "metadata": {},
          "execution_count": 182
        }
      ]
    },
    {
      "cell_type": "markdown",
      "source": [
        "Copy List"
      ],
      "metadata": {
        "id": "TekliTYOHpY8"
      }
    },
    {
      "cell_type": "code",
      "source": [
        "mylist = ['one' , 'two' , 'three' , 'four' , 'five' , 'six' , 'seven' , 'eight' , 'nine' , 'ten']\n",
        "mylist"
      ],
      "metadata": {
        "colab": {
          "base_uri": "https://localhost:8080/"
        },
        "id": "0D-gs_QKHaSC",
        "outputId": "8c3320dc-7536-4257-f1e6-4da719aac543"
      },
      "execution_count": 3,
      "outputs": [
        {
          "output_type": "execute_result",
          "data": {
            "text/plain": [
              "['one', 'two', 'three', 'four', 'five', 'six', 'seven', 'eight', 'nine', 'ten']"
            ]
          },
          "metadata": {},
          "execution_count": 3
        }
      ]
    },
    {
      "cell_type": "code",
      "source": [
        "mylist1= mylist\n",
        "mylist1"
      ],
      "metadata": {
        "colab": {
          "base_uri": "https://localhost:8080/"
        },
        "id": "JFgAxXGXH2gq",
        "outputId": "7ebe35aa-dd44-41b6-f88d-529d30ec9135"
      },
      "execution_count": 4,
      "outputs": [
        {
          "output_type": "execute_result",
          "data": {
            "text/plain": [
              "['one', 'two', 'three', 'four', 'five', 'six', 'seven', 'eight', 'nine', 'ten']"
            ]
          },
          "metadata": {},
          "execution_count": 4
        }
      ]
    },
    {
      "cell_type": "code",
      "source": [
        "id(mylist) , id(mylist1) # The address of both mylist & mylist1 will be the same"
      ],
      "metadata": {
        "colab": {
          "base_uri": "https://localhost:8080/"
        },
        "id": "sr87j2L-ICKJ",
        "outputId": "e73d8d58-5f18-44b4-ef7d-bf820f6cb690"
      },
      "execution_count": 5,
      "outputs": [
        {
          "output_type": "execute_result",
          "data": {
            "text/plain": [
              "(132739048584832, 132739048584832)"
            ]
          },
          "metadata": {},
          "execution_count": 5
        }
      ]
    },
    {
      "cell_type": "code",
      "source": [
        "mylist2 = mylist.copy() # Create a copy of the list"
      ],
      "metadata": {
        "id": "mi5kCdmlIFFA"
      },
      "execution_count": 6,
      "outputs": []
    },
    {
      "cell_type": "code",
      "source": [
        "id(mylist) , id(mylist2)"
      ],
      "metadata": {
        "colab": {
          "base_uri": "https://localhost:8080/"
        },
        "id": "B_m81PUpI2Wx",
        "outputId": "ca6aaa0e-696b-40d7-ee1c-74e037e8e05b"
      },
      "execution_count": 8,
      "outputs": [
        {
          "output_type": "execute_result",
          "data": {
            "text/plain": [
              "(132739048584832, 132739048460672)"
            ]
          },
          "metadata": {},
          "execution_count": 8
        }
      ]
    },
    {
      "cell_type": "markdown",
      "source": [
        "Join Lists"
      ],
      "metadata": {
        "id": "UjRBhlw5Pt0_"
      }
    },
    {
      "cell_type": "code",
      "source": [
        "list1 = ['one', 'two', 'three', 'four']\n",
        "list2 = ['five', 'six', 'seven', 'eight']"
      ],
      "metadata": {
        "id": "kDNZF814Otl7"
      },
      "execution_count": 9,
      "outputs": []
    },
    {
      "cell_type": "code",
      "source": [
        "list3 = list1 + list2 # Join two lists by '+' operator\n",
        "list3"
      ],
      "metadata": {
        "colab": {
          "base_uri": "https://localhost:8080/"
        },
        "id": "tNI2n-d4PyrY",
        "outputId": "2a2e2367-2d26-4928-86b4-266b833854ff"
      },
      "execution_count": 10,
      "outputs": [
        {
          "output_type": "execute_result",
          "data": {
            "text/plain": [
              "['one', 'two', 'three', 'four', 'five', 'six', 'seven', 'eight']"
            ]
          },
          "metadata": {},
          "execution_count": 10
        }
      ]
    },
    {
      "cell_type": "markdown",
      "source": [
        "**Tuple**"
      ],
      "metadata": {
        "id": "pVs7HsyUL1-M"
      }
    },
    {
      "cell_type": "markdown",
      "source": [
        "Tuples offer some degree of safety when we want to define lists of immutable constants."
      ],
      "metadata": {
        "id": "SbRBNUuSMW0M"
      }
    },
    {
      "cell_type": "code",
      "source": [
        "tup = (1, 1, 2, 3, 5, 8, 13)\n",
        "tup"
      ],
      "metadata": {
        "colab": {
          "base_uri": "https://localhost:8080/"
        },
        "id": "SfTEpJpXP1vI",
        "outputId": "8c7fce7b-9171-469f-9e95-49889ca4ba3e"
      },
      "execution_count": 4,
      "outputs": [
        {
          "output_type": "execute_result",
          "data": {
            "text/plain": [
              "(1, 1, 2, 3, 5, 8, 13)"
            ]
          },
          "metadata": {},
          "execution_count": 4
        }
      ]
    },
    {
      "cell_type": "code",
      "source": [
        "tup[4]"
      ],
      "metadata": {
        "colab": {
          "base_uri": "https://localhost:8080/"
        },
        "id": "EGi8EYIOMAit",
        "outputId": "1381011a-bba2-4a20-afed-df6519a57890"
      },
      "execution_count": 3,
      "outputs": [
        {
          "output_type": "execute_result",
          "data": {
            "text/plain": [
              "5"
            ]
          },
          "metadata": {},
          "execution_count": 3
        }
      ]
    },
    {
      "cell_type": "code",
      "source": [
        "tup[4] = 7"
      ],
      "metadata": {
        "colab": {
          "base_uri": "https://localhost:8080/",
          "height": 176
        },
        "id": "xl1S0HxDMIuB",
        "outputId": "c753c5c7-0d18-45b9-acb8-7421594610d3"
      },
      "execution_count": 5,
      "outputs": [
        {
          "output_type": "error",
          "ename": "TypeError",
          "evalue": "ignored",
          "traceback": [
            "\u001b[0;31m---------------------------------------------------------------------------\u001b[0m",
            "\u001b[0;31mTypeError\u001b[0m                                 Traceback (most recent call last)",
            "\u001b[0;32m<ipython-input-5-8dd440b6de65>\u001b[0m in \u001b[0;36m<cell line: 1>\u001b[0;34m()\u001b[0m\n\u001b[0;32m----> 1\u001b[0;31m \u001b[0mtup\u001b[0m\u001b[0;34m[\u001b[0m\u001b[0;36m4\u001b[0m\u001b[0;34m]\u001b[0m \u001b[0;34m=\u001b[0m \u001b[0;36m7\u001b[0m\u001b[0;34m\u001b[0m\u001b[0;34m\u001b[0m\u001b[0m\n\u001b[0m",
            "\u001b[0;31mTypeError\u001b[0m: 'tuple' object does not support item assignment"
          ]
        }
      ]
    },
    {
      "cell_type": "markdown",
      "source": [
        "**Arrays**"
      ],
      "metadata": {
        "id": "jOGxugGoMa4z"
      }
    },
    {
      "cell_type": "markdown",
      "source": [
        "Array is similar to a list but where all the elements of the list are of the same type"
      ],
      "metadata": {
        "id": "UkggKMgPMnDu"
      }
    },
    {
      "cell_type": "markdown",
      "source": [
        "Different types of arrays"
      ],
      "metadata": {
        "id": "YsnMfafVMtkm"
      }
    },
    {
      "cell_type": "code",
      "source": [
        "list2a = list(range(1,11))\n",
        "print(type(list2a))\n",
        "print(list2a)"
      ],
      "metadata": {
        "colab": {
          "base_uri": "https://localhost:8080/"
        },
        "id": "aTQcqltBMPB6",
        "outputId": "5ac18068-e13a-45e3-fb4b-10962ecdb953"
      },
      "execution_count": 42,
      "outputs": [
        {
          "output_type": "stream",
          "name": "stdout",
          "text": [
            "<class 'list'>\n",
            "[1, 2, 3, 4, 5, 6, 7, 8, 9, 10]\n"
          ]
        }
      ]
    },
    {
      "cell_type": "code",
      "source": [
        "list2b = arr.array('f',list2a)\n",
        "print(type(list2b))\n",
        "print(list2b)"
      ],
      "metadata": {
        "colab": {
          "base_uri": "https://localhost:8080/"
        },
        "id": "tbi5Wl1cM02D",
        "outputId": "0ba4f898-c4e7-43e8-8cf2-9b3a313541ce"
      },
      "execution_count": 58,
      "outputs": [
        {
          "output_type": "stream",
          "name": "stdout",
          "text": [
            "<class 'array.array'>\n",
            "array('f', [1.0, 2.0, 3.0, 4.0, 5.0, 6.0, 7.0, 8.0, 9.0, 10.0])\n"
          ]
        }
      ]
    },
    {
      "cell_type": "code",
      "source": [
        "list2b[-1]"
      ],
      "metadata": {
        "colab": {
          "base_uri": "https://localhost:8080/"
        },
        "id": "Oe9pXTesNGVx",
        "outputId": "e1605161-b1dc-47d3-da95-6ab5a40cfba4"
      },
      "execution_count": 35,
      "outputs": [
        {
          "output_type": "execute_result",
          "data": {
            "text/plain": [
              "10"
            ]
          },
          "metadata": {},
          "execution_count": 35
        }
      ]
    },
    {
      "cell_type": "code",
      "source": [
        "list2c = np.array(list2b[-2:])\n",
        "list2c"
      ],
      "metadata": {
        "colab": {
          "base_uri": "https://localhost:8080/"
        },
        "id": "cYXbZsR7S_uj",
        "outputId": "fb987935-e2ea-4ba3-ed78-6708c6514651"
      },
      "execution_count": 49,
      "outputs": [
        {
          "output_type": "execute_result",
          "data": {
            "text/plain": [
              "array([ 9, 10], dtype=int32)"
            ]
          },
          "metadata": {},
          "execution_count": 49
        }
      ]
    },
    {
      "cell_type": "code",
      "source": [
        "np.linspace(1, 10, num=10, dtype=complex)\n",
        "#int\n",
        "#float\n",
        "#complex\n",
        "#bool"
      ],
      "metadata": {
        "colab": {
          "base_uri": "https://localhost:8080/"
        },
        "id": "327L7nkLO2vB",
        "outputId": "21bc1691-0a0b-4ed4-d337-a56e0c1f110d"
      },
      "execution_count": 61,
      "outputs": [
        {
          "output_type": "execute_result",
          "data": {
            "text/plain": [
              "array([ 1.+0.j,  2.+0.j,  3.+0.j,  4.+0.j,  5.+0.j,  6.+0.j,  7.+0.j,\n",
              "        8.+0.j,  9.+0.j, 10.+0.j])"
            ]
          },
          "metadata": {},
          "execution_count": 61
        }
      ]
    },
    {
      "cell_type": "markdown",
      "source": [
        "# zeros(num, dtype=float):\n",
        "# Returns an an array of 0s with num elements. Optional dtype argument can be used to set data type; left unspecified, a float array is made.\n",
        "# ones(num, dtype=float):\n",
        "# Returns an an array of 1s with num elements. Optional dtype argument can be used to set data type; left unspecified, a float array is made."
      ],
      "metadata": {
        "id": "ezjdY-DkUDSV"
      }
    },
    {
      "cell_type": "code",
      "source": [
        "zp = [1, 2, 3, 3, 5]\n",
        "zeros_array = np.zeros_like(zp, dtype=int)\n",
        "zeros_array"
      ],
      "metadata": {
        "colab": {
          "base_uri": "https://localhost:8080/"
        },
        "id": "NOvCBZTpPDmN",
        "outputId": "4e195700-52eb-477e-a232-c1f681f89f01"
      },
      "execution_count": 68,
      "outputs": [
        {
          "output_type": "execute_result",
          "data": {
            "text/plain": [
              "array([0, 0, 0, 0, 0])"
            ]
          },
          "metadata": {},
          "execution_count": 68
        }
      ]
    },
    {
      "cell_type": "code",
      "source": [
        "zp = [1, 2, 3, 3, 5]\n",
        "zeros_array1 = np.ones_like(zp, dtype=int)\n",
        "zeros_array1"
      ],
      "metadata": {
        "colab": {
          "base_uri": "https://localhost:8080/"
        },
        "id": "u7i1aBTxVP4J",
        "outputId": "3e033645-b846-4d8b-c345-f93253033929"
      },
      "execution_count": 69,
      "outputs": [
        {
          "output_type": "execute_result",
          "data": {
            "text/plain": [
              "array([1, 1, 1, 1, 1])"
            ]
          },
          "metadata": {},
          "execution_count": 69
        }
      ]
    },
    {
      "cell_type": "code",
      "source": [
        "Rohit = np.arange(9)\n",
        "Rohit"
      ],
      "metadata": {
        "colab": {
          "base_uri": "https://localhost:8080/"
        },
        "id": "9ZjLAOO8V2iD",
        "outputId": "08cdb7fe-d649-4843-81f9-e301f39d2c14"
      },
      "execution_count": 96,
      "outputs": [
        {
          "output_type": "execute_result",
          "data": {
            "text/plain": [
              "array([0, 1, 2, 3, 4, 5, 6, 7, 8])"
            ]
          },
          "metadata": {},
          "execution_count": 96
        }
      ]
    },
    {
      "cell_type": "code",
      "source": [
        "Rohit = np.reshape(Rohit, (3, 3))\n",
        "Rohit"
      ],
      "metadata": {
        "colab": {
          "base_uri": "https://localhost:8080/"
        },
        "id": "0Oaenu8yWR_I",
        "outputId": "1f44f821-f5d1-4188-ff7d-bab01cbe09af"
      },
      "execution_count": 99,
      "outputs": [
        {
          "output_type": "execute_result",
          "data": {
            "text/plain": [
              "array([[0, 1, 2],\n",
              "       [3, 4, 5],\n",
              "       [6, 7, 8]])"
            ]
          },
          "metadata": {},
          "execution_count": 99
        }
      ]
    },
    {
      "cell_type": "code",
      "source": [
        "print(Rohit[1][1],end='')\n",
        "print(Rohit[1][2])"
      ],
      "metadata": {
        "colab": {
          "base_uri": "https://localhost:8080/"
        },
        "id": "LSjiwHJFWyOo",
        "outputId": "9d560450-5051-4df4-cf13-5917353c023e"
      },
      "execution_count": 102,
      "outputs": [
        {
          "output_type": "stream",
          "name": "stdout",
          "text": [
            "45\n"
          ]
        }
      ]
    },
    {
      "cell_type": "code",
      "source": [
        "Rohit"
      ],
      "metadata": {
        "colab": {
          "base_uri": "https://localhost:8080/"
        },
        "id": "g0i2Haf9Xn11",
        "outputId": "2014d1c8-5bd6-45e6-da58-0b3577f43e47"
      },
      "execution_count": 103,
      "outputs": [
        {
          "output_type": "execute_result",
          "data": {
            "text/plain": [
              "array([[0, 1, 2],\n",
              "       [3, 4, 5],\n",
              "       [6, 7, 8]])"
            ]
          },
          "metadata": {},
          "execution_count": 103
        }
      ]
    },
    {
      "cell_type": "code",
      "source": [
        "Rohit.T"
      ],
      "metadata": {
        "colab": {
          "base_uri": "https://localhost:8080/"
        },
        "id": "VbQcE06ZY8sk",
        "outputId": "1d8a51a6-3e08-493e-82c6-8fc41bc80ced"
      },
      "execution_count": 104,
      "outputs": [
        {
          "output_type": "execute_result",
          "data": {
            "text/plain": [
              "array([[0, 3, 6],\n",
              "       [1, 4, 7],\n",
              "       [2, 5, 8]])"
            ]
          },
          "metadata": {},
          "execution_count": 104
        }
      ]
    },
    {
      "cell_type": "markdown",
      "source": [
        "**Dict**"
      ],
      "metadata": {
        "id": "B2uIEjHNZQKQ"
      }
    },
    {
      "cell_type": "code",
      "source": [
        "bengaluru = {\"Nagavara\": 560045,\"Tanisandhra\": 560077,\"Yelahanka\": 560064}\n"
      ],
      "metadata": {
        "id": "fVv7ovcqY-qT"
      },
      "execution_count": 111,
      "outputs": []
    },
    {
      "cell_type": "code",
      "source": [
        "bengaluru['Nagavara']"
      ],
      "metadata": {
        "colab": {
          "base_uri": "https://localhost:8080/"
        },
        "id": "T_pz7LVLZBxS",
        "outputId": "4529476c-0334-4c75-d874-65eb0e111701"
      },
      "execution_count": 112,
      "outputs": [
        {
          "output_type": "execute_result",
          "data": {
            "text/plain": [
              "560045"
            ]
          },
          "metadata": {},
          "execution_count": 112
        }
      ]
    },
    {
      "cell_type": "code",
      "source": [
        "naam_dob = {}\n"
      ],
      "metadata": {
        "id": "GmqrLUNYaUS5"
      },
      "execution_count": 113,
      "outputs": []
    },
    {
      "cell_type": "code",
      "source": [
        "naam_dob[\"first name\"] = \"Aditya\""
      ],
      "metadata": {
        "id": "RZsDmFd_a9TH"
      },
      "execution_count": 114,
      "outputs": []
    },
    {
      "cell_type": "code",
      "source": [
        "naam_dob[\"last name\"] = \"Kanakamalla\""
      ],
      "metadata": {
        "id": "TWkMOqyibEpB"
      },
      "execution_count": 115,
      "outputs": []
    },
    {
      "cell_type": "code",
      "source": [
        "naam_dob['dob'] =\"November 23 1999\""
      ],
      "metadata": {
        "id": "ly0pieOQbUkN"
      },
      "execution_count": 116,
      "outputs": []
    },
    {
      "cell_type": "code",
      "source": [
        "naam_dob"
      ],
      "metadata": {
        "colab": {
          "base_uri": "https://localhost:8080/"
        },
        "id": "NSqvcY0cbk_-",
        "outputId": "c1eb9316-b357-4433-8e62-1f3d850eab6a"
      },
      "execution_count": 118,
      "outputs": [
        {
          "output_type": "execute_result",
          "data": {
            "text/plain": [
              "{'first name': 'Aditya', 'last name': 'Kanakamalla', 'dob': 'November 23 1999'}"
            ]
          },
          "metadata": {},
          "execution_count": 118
        }
      ]
    },
    {
      "cell_type": "code",
      "source": [
        "naam_dob.keys()"
      ],
      "metadata": {
        "colab": {
          "base_uri": "https://localhost:8080/"
        },
        "id": "0xjX7Qg2bnPc",
        "outputId": "4252af25-0aec-4e88-ba7c-ba0adf4e0604"
      },
      "execution_count": 121,
      "outputs": [
        {
          "output_type": "execute_result",
          "data": {
            "text/plain": [
              "dict_keys(['first name', 'last name', 'dob'])"
            ]
          },
          "metadata": {},
          "execution_count": 121
        }
      ]
    },
    {
      "cell_type": "code",
      "source": [
        "naam_dob.values()"
      ],
      "metadata": {
        "colab": {
          "base_uri": "https://localhost:8080/"
        },
        "id": "b9W11U4pbsS9",
        "outputId": "53539a93-c132-42be-f0b3-8214a337f563"
      },
      "execution_count": 122,
      "outputs": [
        {
          "output_type": "execute_result",
          "data": {
            "text/plain": [
              "dict_values(['Aditya', 'Kanakamalla', 'November 23 1999'])"
            ]
          },
          "metadata": {},
          "execution_count": 122
        }
      ]
    },
    {
      "cell_type": "code",
      "source": [],
      "metadata": {
        "id": "Pmns9dhbb28l"
      },
      "execution_count": null,
      "outputs": []
    }
  ]
}